{
 "cells": [
  {
   "cell_type": "markdown",
   "metadata": {},
   "source": [
    "# Problema 3 - Análisis Datos Youtube - Archivo .py"
   ]
  },
  {
   "cell_type": "markdown",
   "metadata": {},
   "source": [
    "1. Descargar un archivo .zip mediante código del siguiente url (https://netsg.cs.sfu.ca/youtubedata/) (recomiendo descargar el archivo 0333.zip que es menos pesado)\n",
    "2. Descomprimir los datos en una carpeta que genere y leer mediante pandas alguno de los archivos en esta. (observar que no es necesario en un primer momento leer los datos con un nombre de columna especifico)\n",
    "\n",
    "    - Los nombres de columna pueden ser puestos posteriormente\n",
    "    - El separador de columna es <code>\\t</code>\n",
    "    - Se colocan los nombres de columnas y descripción asociada para su intermetación. Ejemplo columna1 sera VideoID ... \n",
    "    \n",
    "\n",
    "3. Procesar los datos según: \n",
    "    - Nos quedaremos con las columnas: VideoID, edad, catgoria, views, rate.\n",
    "    - Realizar un filtrado básico a los datos. Ejemplo solo seleccionar cierto grupo de categorias\n",
    "\n",
    "4. Procesamiento en Mongo Db\n",
    "    - Exportar los datos a mongo DB \n",
    "    - Crear 2 graficos con los datos \n",
    "    - Compartir link donde encontrar los datos \n",
    "\n",
    "\n"
   ]
  },
  {
   "cell_type": "markdown",
   "metadata": {},
   "source": [
    "| Nombre de la Columna | Descripción                                                                                                 |\n",
    "|----------------------|-------------------------------------------------------------------------------------------------------------|\n",
    "| `video ID`           | Una cadena de 11 dígitos, la cual es única                                                                |\n",
    "| `uploader`           | Una cadena con el nombre de usuario del cargador del video                                                  |\n",
    "| `age`                | Un número entero que representa los días transcurridos desde la fecha en que se subió el video hasta el 15 de febrero de 2007 (fecha de creación de YouTube) |\n",
    "| `category`           | Una cadena que indica la categoría del video elegida por el cargador                                       |\n",
    "| `length`             | Un número entero que representa la duración del video en minutos                                            |\n",
    "| `views`              | Un número entero que representa el número de visualizaciones del video                                      |\n",
    "| `rate`               | Un número flotante que indica la calificación del video                                                      |\n",
    "| `ratings`            | Un número entero que representa el número de calificaciones recibidas por el video                          |\n",
    "| `comments`           | Un número entero que indica el número de comentarios en el video                                            |\n",
    "| `related IDs`        | Hasta 20 cadenas de texto con los IDs de videos relacionados                                                |\n"
   ]
  },
  {
   "cell_type": "code",
   "execution_count": 11,
   "metadata": {},
   "outputs": [
    {
     "name": "stdout",
     "output_type": "stream",
     "text": [
      "Archivos extraídos: ['0515']\n"
     ]
    },
    {
     "ename": "IsADirectoryError",
     "evalue": "[Errno 21] Is a directory: 'youtubedata/0515'",
     "output_type": "error",
     "traceback": [
      "\u001b[0;31m---------------------------------------------------------------------------\u001b[0m",
      "\u001b[0;31mIsADirectoryError\u001b[0m                         Traceback (most recent call last)",
      "Cell \u001b[0;32mIn[11], line 30\u001b[0m\n\u001b[1;32m     27\u001b[0m data_file \u001b[38;5;241m=\u001b[39m os\u001b[38;5;241m.\u001b[39mpath\u001b[38;5;241m.\u001b[39mjoin(\u001b[38;5;124m'\u001b[39m\u001b[38;5;124myoutubedata\u001b[39m\u001b[38;5;124m'\u001b[39m, extracted_files[\u001b[38;5;241m0\u001b[39m])\n\u001b[1;32m     29\u001b[0m \u001b[38;5;66;03m# Leer el archivo .txt\u001b[39;00m\n\u001b[0;32m---> 30\u001b[0m \u001b[38;5;28;01mwith\u001b[39;00m \u001b[38;5;28;43mopen\u001b[39;49m\u001b[43m(\u001b[49m\u001b[43mdata_file\u001b[49m\u001b[43m,\u001b[49m\u001b[43m \u001b[49m\u001b[38;5;124;43m'\u001b[39;49m\u001b[38;5;124;43mr\u001b[39;49m\u001b[38;5;124;43m'\u001b[39;49m\u001b[43m,\u001b[49m\u001b[43m \u001b[49m\u001b[43mencoding\u001b[49m\u001b[38;5;241;43m=\u001b[39;49m\u001b[38;5;124;43m'\u001b[39;49m\u001b[38;5;124;43mutf-8\u001b[39;49m\u001b[38;5;124;43m'\u001b[39;49m\u001b[43m)\u001b[49m \u001b[38;5;28;01mas\u001b[39;00m file:\n\u001b[1;32m     31\u001b[0m     lines \u001b[38;5;241m=\u001b[39m file\u001b[38;5;241m.\u001b[39mreadlines()\n\u001b[1;32m     33\u001b[0m \u001b[38;5;66;03m# Dividir las líneas en columnas usando '\\t' como separador\u001b[39;00m\n",
      "File \u001b[0;32m~/.local/lib/python3.12/site-packages/IPython/core/interactiveshell.py:324\u001b[0m, in \u001b[0;36m_modified_open\u001b[0;34m(file, *args, **kwargs)\u001b[0m\n\u001b[1;32m    317\u001b[0m \u001b[38;5;28;01mif\u001b[39;00m file \u001b[38;5;129;01min\u001b[39;00m {\u001b[38;5;241m0\u001b[39m, \u001b[38;5;241m1\u001b[39m, \u001b[38;5;241m2\u001b[39m}:\n\u001b[1;32m    318\u001b[0m     \u001b[38;5;28;01mraise\u001b[39;00m \u001b[38;5;167;01mValueError\u001b[39;00m(\n\u001b[1;32m    319\u001b[0m         \u001b[38;5;124mf\u001b[39m\u001b[38;5;124m\"\u001b[39m\u001b[38;5;124mIPython won\u001b[39m\u001b[38;5;124m'\u001b[39m\u001b[38;5;124mt let you open fd=\u001b[39m\u001b[38;5;132;01m{\u001b[39;00mfile\u001b[38;5;132;01m}\u001b[39;00m\u001b[38;5;124m by default \u001b[39m\u001b[38;5;124m\"\u001b[39m\n\u001b[1;32m    320\u001b[0m         \u001b[38;5;124m\"\u001b[39m\u001b[38;5;124mas it is likely to crash IPython. If you know what you are doing, \u001b[39m\u001b[38;5;124m\"\u001b[39m\n\u001b[1;32m    321\u001b[0m         \u001b[38;5;124m\"\u001b[39m\u001b[38;5;124myou can use builtins\u001b[39m\u001b[38;5;124m'\u001b[39m\u001b[38;5;124m open.\u001b[39m\u001b[38;5;124m\"\u001b[39m\n\u001b[1;32m    322\u001b[0m     )\n\u001b[0;32m--> 324\u001b[0m \u001b[38;5;28;01mreturn\u001b[39;00m \u001b[43mio_open\u001b[49m\u001b[43m(\u001b[49m\u001b[43mfile\u001b[49m\u001b[43m,\u001b[49m\u001b[43m \u001b[49m\u001b[38;5;241;43m*\u001b[39;49m\u001b[43margs\u001b[49m\u001b[43m,\u001b[49m\u001b[43m \u001b[49m\u001b[38;5;241;43m*\u001b[39;49m\u001b[38;5;241;43m*\u001b[39;49m\u001b[43mkwargs\u001b[49m\u001b[43m)\u001b[49m\n",
      "\u001b[0;31mIsADirectoryError\u001b[0m: [Errno 21] Is a directory: 'youtubedata/0515'"
     ]
    }
   ],
   "source": [
    "import requests\n",
    "\n",
    "url = 'https://netsg.cs.sfu.ca/youtubedata/0515.zip'\n",
    "local_filename = '0515.zip'\n",
    "\n",
    "# Descargar el archivo\n",
    "with requests.get(url, stream=True) as r:\n",
    "    r.raise_for_status()\n",
    "    with open(local_filename, 'wb') as f:\n",
    "        for chunk in r.iter_content(chunk_size=8192):\n",
    "            f.write(chunk)\n",
    "\n",
    "import zipfile\n",
    "import os\n",
    "\n",
    "# Descomprimir el archivo\n",
    "with zipfile.ZipFile(local_filename, 'r') as zip_ref:\n",
    "    zip_ref.extractall('youtubedata')\n",
    "\n",
    "# Listar archivos en la carpeta descomprimida\n",
    "extracted_files = os.listdir('youtubedata')\n",
    "print(\"Archivos extraídos:\", extracted_files)\n",
    "\n",
    "import pandas as pd\n",
    "\n",
    "# Suponemos que el archivo de datos relevante es el primero de la lista\n",
    "data_file = os.path.join('youtubedata', extracted_files[0])\n",
    "\n",
    "# Leer el archivo .txt\n",
    "with open(data_file, 'r', encoding='utf-8') as file:\n",
    "    lines = file.readlines()\n",
    "\n",
    "# Dividir las líneas en columnas usando '\\t' como separador\n",
    "data = [line.strip().split('\\t') for line in lines]\n",
    "\n",
    "# Convertir a DataFrame y asignar nombres a las columnas\n",
    "df = pd.DataFrame(data, columns=['VideoID', 'Uploader', 'Age', 'Category', 'Length', 'Views', 'Rate', 'Ratings', 'Comments', 'RelatedIDs'])\n",
    "# Seleccionar las columnas deseadas\n",
    "df_filtered = df[['VideoID', 'Age', 'Category', 'Views', 'Rate']]\n",
    "\n",
    "# Filtrar por categorías específicas (por ejemplo, 'Music' y 'Sports')\n",
    "filtered_categories = ['Music', 'Sports']\n",
    "df_filtered = df_filtered[df_filtered['Category'].isin(filtered_categories)]\n",
    "\n",
    "from pymongo import MongoClient\n",
    "import matplotlib.pyplot as plt\n",
    "\n",
    "# Conectar a MongoDB\n",
    "client = MongoClient('mongodb://localhost:27017/')\n",
    "db = client['youtube_data']\n",
    "collection = db['videos']\n",
    "\n",
    "# Convertir el DataFrame a un diccionario y cargarlo a MongoDB\n",
    "data_dict = df_filtered.to_dict(\"records\")\n",
    "collection.insert_many(data_dict)\n",
    "\n",
    "# Crear gráficos\n",
    "# Gráfico 1: Distribución de categorías\n",
    "category_counts = df_filtered['Category'].value_counts()\n",
    "category_counts.plot(kind='bar')\n",
    "plt.title('Distribution of Categories')\n",
    "plt.xlabel('Category')\n",
    "plt.ylabel('Count')\n",
    "plt.savefig('category_distribution.png')\n",
    "plt.show()\n",
    "\n",
    "# Gráfico 2: Relación entre Views y Rate\n",
    "plt.scatter(df_filtered['Views'], df_filtered['Rate'])\n",
    "plt.title('Views vs. Rate')\n",
    "plt.xlabel('Views')\n",
    "plt.ylabel('Rate')\n",
    "plt.savefig('views_vs_rate.png')\n",
    "plt.show()\n",
    "\n"
   ]
  }
 ],
 "metadata": {
  "kernelspec": {
   "display_name": "Python 3",
   "language": "python",
   "name": "python3"
  },
  "language_info": {
   "codemirror_mode": {
    "name": "ipython",
    "version": 3
   },
   "file_extension": ".py",
   "mimetype": "text/x-python",
   "name": "python",
   "nbconvert_exporter": "python",
   "pygments_lexer": "ipython3",
   "version": "3.12.1"
  }
 },
 "nbformat": 4,
 "nbformat_minor": 2
}
